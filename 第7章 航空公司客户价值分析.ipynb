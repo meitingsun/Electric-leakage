{
 "cells": [
  {
   "cell_type": "markdown",
   "metadata": {},
   "source": [
    "# 航空公司客户价值分析"
   ]
  },
  {
   "cell_type": "markdown",
   "metadata": {},
   "source": [
    "#### 航空公司已积累了大量的会员档案信息和其乘坐航班记录，经过加工得到部分数据信息\n",
    "\n",
    "根据这些数据实现以下目标：\n",
    "\n",
    "1、借助航空公司客户数据，对客户进行分类\n",
    "\n",
    "2、对不同的客户类别进行特征分析，比较不同类客户的客户价值\n",
    "\n",
    "3、对不同价值的客户类别提供个性化服务，制定相应的营销策略\n"
   ]
  },
  {
   "cell_type": "markdown",
   "metadata": {},
   "source": [
    "### RFM模型，作用是识别高价值的客户"
   ]
  },
  {
   "cell_type": "markdown",
   "metadata": {},
   "source": [
    "#### 识别客户价值，应用最广泛的模型是三个指标（消费时间间隔recency；消费频率frequency；消费金额monetary）"
   ]
  },
  {
   "cell_type": "markdown",
   "metadata": {},
   "source": [
    "### LRFMC模型：作为航空公司识别客户价值指标"
   ]
  },
  {
   "cell_type": "markdown",
   "metadata": {},
   "source": [
    "#### 消费时间间隔R；客户关系长度L；消费频率F；飞行里程M和折扣系数的平均值C"
   ]
  },
  {
   "cell_type": "markdown",
   "metadata": {},
   "source": [
    "## 1、 数据抽取"
   ]
  },
  {
   "cell_type": "markdown",
   "metadata": {},
   "source": [
    "### 1.1 数据探索分析"
   ]
  },
  {
   "cell_type": "code",
   "execution_count": 30,
   "metadata": {},
   "outputs": [],
   "source": [
    "import pandas as pd\n",
    "import numpy as np"
   ]
  },
  {
   "cell_type": "code",
   "execution_count": 40,
   "metadata": {},
   "outputs": [],
   "source": [
    "data=pd.read_csv(r\"D:\\Entertainment\\jyputer\\Jyputer\\Airline Customer Value Analysis\\demo\\data\\air_data.csv\")"
   ]
  },
  {
   "cell_type": "code",
   "execution_count": 41,
   "metadata": {
    "scrolled": true
   },
   "outputs": [
    {
     "data": {
      "text/html": [
       "<div>\n",
       "<style scoped>\n",
       "    .dataframe tbody tr th:only-of-type {\n",
       "        vertical-align: middle;\n",
       "    }\n",
       "\n",
       "    .dataframe tbody tr th {\n",
       "        vertical-align: top;\n",
       "    }\n",
       "\n",
       "    .dataframe thead th {\n",
       "        text-align: right;\n",
       "    }\n",
       "</style>\n",
       "<table border=\"1\" class=\"dataframe\">\n",
       "  <thead>\n",
       "    <tr style=\"text-align: right;\">\n",
       "      <th></th>\n",
       "      <th>MEMBER_NO</th>\n",
       "      <th>FFP_DATE</th>\n",
       "      <th>FIRST_FLIGHT_DATE</th>\n",
       "      <th>GENDER</th>\n",
       "      <th>FFP_TIER</th>\n",
       "      <th>WORK_CITY</th>\n",
       "      <th>WORK_PROVINCE</th>\n",
       "      <th>WORK_COUNTRY</th>\n",
       "      <th>AGE</th>\n",
       "      <th>LOAD_TIME</th>\n",
       "      <th>...</th>\n",
       "      <th>ADD_Point_SUM</th>\n",
       "      <th>Eli_Add_Point_Sum</th>\n",
       "      <th>L1Y_ELi_Add_Points</th>\n",
       "      <th>Points_Sum</th>\n",
       "      <th>L1Y_Points_Sum</th>\n",
       "      <th>Ration_L1Y_Flight_Count</th>\n",
       "      <th>Ration_P1Y_Flight_Count</th>\n",
       "      <th>Ration_P1Y_BPS</th>\n",
       "      <th>Ration_L1Y_BPS</th>\n",
       "      <th>Point_NotFlight</th>\n",
       "    </tr>\n",
       "  </thead>\n",
       "  <tbody>\n",
       "    <tr>\n",
       "      <th>0</th>\n",
       "      <td>54993</td>\n",
       "      <td>2006/11/02</td>\n",
       "      <td>2008/12/24</td>\n",
       "      <td>男</td>\n",
       "      <td>6</td>\n",
       "      <td>.</td>\n",
       "      <td>北京</td>\n",
       "      <td>CN</td>\n",
       "      <td>31.0</td>\n",
       "      <td>2014/03/31</td>\n",
       "      <td>...</td>\n",
       "      <td>39992</td>\n",
       "      <td>114452</td>\n",
       "      <td>111100</td>\n",
       "      <td>619760</td>\n",
       "      <td>370211</td>\n",
       "      <td>0.509524</td>\n",
       "      <td>0.490476</td>\n",
       "      <td>0.487221</td>\n",
       "      <td>0.512777</td>\n",
       "      <td>50</td>\n",
       "    </tr>\n",
       "    <tr>\n",
       "      <th>1</th>\n",
       "      <td>28065</td>\n",
       "      <td>2007/02/19</td>\n",
       "      <td>2007/08/03</td>\n",
       "      <td>男</td>\n",
       "      <td>6</td>\n",
       "      <td>NaN</td>\n",
       "      <td>北京</td>\n",
       "      <td>CN</td>\n",
       "      <td>42.0</td>\n",
       "      <td>2014/03/31</td>\n",
       "      <td>...</td>\n",
       "      <td>12000</td>\n",
       "      <td>53288</td>\n",
       "      <td>53288</td>\n",
       "      <td>415768</td>\n",
       "      <td>238410</td>\n",
       "      <td>0.514286</td>\n",
       "      <td>0.485714</td>\n",
       "      <td>0.489289</td>\n",
       "      <td>0.510708</td>\n",
       "      <td>33</td>\n",
       "    </tr>\n",
       "    <tr>\n",
       "      <th>2</th>\n",
       "      <td>55106</td>\n",
       "      <td>2007/02/01</td>\n",
       "      <td>2007/08/30</td>\n",
       "      <td>男</td>\n",
       "      <td>6</td>\n",
       "      <td>.</td>\n",
       "      <td>北京</td>\n",
       "      <td>CN</td>\n",
       "      <td>40.0</td>\n",
       "      <td>2014/03/31</td>\n",
       "      <td>...</td>\n",
       "      <td>15491</td>\n",
       "      <td>55202</td>\n",
       "      <td>51711</td>\n",
       "      <td>406361</td>\n",
       "      <td>233798</td>\n",
       "      <td>0.518519</td>\n",
       "      <td>0.481481</td>\n",
       "      <td>0.481467</td>\n",
       "      <td>0.518530</td>\n",
       "      <td>26</td>\n",
       "    </tr>\n",
       "    <tr>\n",
       "      <th>3</th>\n",
       "      <td>21189</td>\n",
       "      <td>2008/08/22</td>\n",
       "      <td>2008/08/23</td>\n",
       "      <td>男</td>\n",
       "      <td>5</td>\n",
       "      <td>Los Angeles</td>\n",
       "      <td>CA</td>\n",
       "      <td>US</td>\n",
       "      <td>64.0</td>\n",
       "      <td>2014/03/31</td>\n",
       "      <td>...</td>\n",
       "      <td>0</td>\n",
       "      <td>34890</td>\n",
       "      <td>34890</td>\n",
       "      <td>372204</td>\n",
       "      <td>186100</td>\n",
       "      <td>0.434783</td>\n",
       "      <td>0.565217</td>\n",
       "      <td>0.551722</td>\n",
       "      <td>0.448275</td>\n",
       "      <td>12</td>\n",
       "    </tr>\n",
       "    <tr>\n",
       "      <th>4</th>\n",
       "      <td>39546</td>\n",
       "      <td>2009/04/10</td>\n",
       "      <td>2009/04/15</td>\n",
       "      <td>男</td>\n",
       "      <td>6</td>\n",
       "      <td>贵阳</td>\n",
       "      <td>贵州</td>\n",
       "      <td>CN</td>\n",
       "      <td>48.0</td>\n",
       "      <td>2014/03/31</td>\n",
       "      <td>...</td>\n",
       "      <td>22704</td>\n",
       "      <td>64969</td>\n",
       "      <td>64969</td>\n",
       "      <td>338813</td>\n",
       "      <td>210365</td>\n",
       "      <td>0.532895</td>\n",
       "      <td>0.467105</td>\n",
       "      <td>0.469054</td>\n",
       "      <td>0.530943</td>\n",
       "      <td>39</td>\n",
       "    </tr>\n",
       "  </tbody>\n",
       "</table>\n",
       "<p>5 rows × 44 columns</p>\n",
       "</div>"
      ],
      "text/plain": [
       "   MEMBER_NO    FFP_DATE FIRST_FLIGHT_DATE GENDER  FFP_TIER    WORK_CITY  \\\n",
       "0      54993  2006/11/02        2008/12/24      男         6            .   \n",
       "1      28065  2007/02/19        2007/08/03      男         6          NaN   \n",
       "2      55106  2007/02/01        2007/08/30      男         6            .   \n",
       "3      21189  2008/08/22        2008/08/23      男         5  Los Angeles   \n",
       "4      39546  2009/04/10        2009/04/15      男         6           贵阳   \n",
       "\n",
       "  WORK_PROVINCE WORK_COUNTRY   AGE   LOAD_TIME       ...         \\\n",
       "0            北京           CN  31.0  2014/03/31       ...          \n",
       "1            北京           CN  42.0  2014/03/31       ...          \n",
       "2            北京           CN  40.0  2014/03/31       ...          \n",
       "3            CA           US  64.0  2014/03/31       ...          \n",
       "4            贵州           CN  48.0  2014/03/31       ...          \n",
       "\n",
       "   ADD_Point_SUM  Eli_Add_Point_Sum  L1Y_ELi_Add_Points  Points_Sum  \\\n",
       "0          39992             114452              111100      619760   \n",
       "1          12000              53288               53288      415768   \n",
       "2          15491              55202               51711      406361   \n",
       "3              0              34890               34890      372204   \n",
       "4          22704              64969               64969      338813   \n",
       "\n",
       "   L1Y_Points_Sum  Ration_L1Y_Flight_Count  Ration_P1Y_Flight_Count  \\\n",
       "0          370211                 0.509524                 0.490476   \n",
       "1          238410                 0.514286                 0.485714   \n",
       "2          233798                 0.518519                 0.481481   \n",
       "3          186100                 0.434783                 0.565217   \n",
       "4          210365                 0.532895                 0.467105   \n",
       "\n",
       "   Ration_P1Y_BPS Ration_L1Y_BPS  Point_NotFlight  \n",
       "0        0.487221       0.512777               50  \n",
       "1        0.489289       0.510708               33  \n",
       "2        0.481467       0.518530               26  \n",
       "3        0.551722       0.448275               12  \n",
       "4        0.469054       0.530943               39  \n",
       "\n",
       "[5 rows x 44 columns]"
      ]
     },
     "execution_count": 41,
     "metadata": {},
     "output_type": "execute_result"
    }
   ],
   "source": [
    "data.head(5)"
   ]
  },
  {
   "cell_type": "markdown",
   "metadata": {},
   "source": [
    "1、客户基本信息：MEMBER_NO 会员卡号；FFP_DATE 入会时间\n",
    "\n",
    "2、客户基本信息：FIRST_FLIGHT_DATE 第一次飞行日期；GENDER 性别；FFP_TIER 会员卡级别；work_city 工作地城市；\n",
    "work_provence 工作地所在省份；work_country 工作地所在国家；age：年龄\n",
    "\n",
    "3、乘机信息：flight_count:观测窗口内的飞行次数；load_time:观测窗口的结束时间；last_to_end:最后一次乘机时间至观测\n",
    "            窗口结束时长；avg_discount:平均折扣率；sum_yr:观测窗口的票价收入；seg_km_sum:观测窗口的总飞行公里数\n",
    "            last_flight_date:末次飞行日期；avg_interval:平均乘机时间间隔；max_interval:最大乘机间隔\n",
    "\n",
    "4、积分信息：exchange_count：积分兑换次数；ep_sum:总精英积分；promoptive_sum:促销积分；pratner_sum：合作伙伴积分； points_sum:总累计积分；point_notflight:非乘机的积分变动次数；bp_sum:总基本积分\n",
    "\n",
    "观测窗口：以过去某个时间点为结束时间，某一时间长度作为宽度，得到历史时间范围内的一个时间段"
   ]
  },
  {
   "cell_type": "code",
   "execution_count": 42,
   "metadata": {
    "collapsed": true
   },
   "outputs": [
    {
     "name": "stdout",
     "output_type": "stream",
     "text": [
      "<class 'pandas.core.frame.DataFrame'>\n",
      "RangeIndex: 62988 entries, 0 to 62987\n",
      "Data columns (total 44 columns):\n",
      "MEMBER_NO                  62988 non-null int64\n",
      "FFP_DATE                   62988 non-null object\n",
      "FIRST_FLIGHT_DATE          62988 non-null object\n",
      "GENDER                     62985 non-null object\n",
      "FFP_TIER                   62988 non-null int64\n",
      "WORK_CITY                  60719 non-null object\n",
      "WORK_PROVINCE              59740 non-null object\n",
      "WORK_COUNTRY               62962 non-null object\n",
      "AGE                        62568 non-null float64\n",
      "LOAD_TIME                  62988 non-null object\n",
      "FLIGHT_COUNT               62988 non-null int64\n",
      "BP_SUM                     62988 non-null int64\n",
      "EP_SUM_YR_1                62988 non-null int64\n",
      "EP_SUM_YR_2                62988 non-null int64\n",
      "SUM_YR_1                   62437 non-null float64\n",
      "SUM_YR_2                   62850 non-null float64\n",
      "SEG_KM_SUM                 62988 non-null int64\n",
      "WEIGHTED_SEG_KM            62988 non-null float64\n",
      "LAST_FLIGHT_DATE           62988 non-null object\n",
      "AVG_FLIGHT_COUNT           62988 non-null float64\n",
      "AVG_BP_SUM                 62988 non-null float64\n",
      "BEGIN_TO_FIRST             62988 non-null int64\n",
      "LAST_TO_END                62988 non-null int64\n",
      "AVG_INTERVAL               62988 non-null float64\n",
      "MAX_INTERVAL               62988 non-null int64\n",
      "ADD_POINTS_SUM_YR_1        62988 non-null int64\n",
      "ADD_POINTS_SUM_YR_2        62988 non-null int64\n",
      "EXCHANGE_COUNT             62988 non-null int64\n",
      "avg_discount               62988 non-null float64\n",
      "P1Y_Flight_Count           62988 non-null int64\n",
      "L1Y_Flight_Count           62988 non-null int64\n",
      "P1Y_BP_SUM                 62988 non-null int64\n",
      "L1Y_BP_SUM                 62988 non-null int64\n",
      "EP_SUM                     62988 non-null int64\n",
      "ADD_Point_SUM              62988 non-null int64\n",
      "Eli_Add_Point_Sum          62988 non-null int64\n",
      "L1Y_ELi_Add_Points         62988 non-null int64\n",
      "Points_Sum                 62988 non-null int64\n",
      "L1Y_Points_Sum             62988 non-null int64\n",
      "Ration_L1Y_Flight_Count    62988 non-null float64\n",
      "Ration_P1Y_Flight_Count    62988 non-null float64\n",
      "Ration_P1Y_BPS             62988 non-null float64\n",
      "Ration_L1Y_BPS             62988 non-null float64\n",
      "Point_NotFlight            62988 non-null int64\n",
      "dtypes: float64(12), int64(24), object(8)\n",
      "memory usage: 21.1+ MB\n"
     ]
    }
   ],
   "source": [
    "data.info()"
   ]
  },
  {
   "cell_type": "code",
   "execution_count": 33,
   "metadata": {
    "collapsed": true
   },
   "outputs": [
    {
     "name": "stdout",
     "output_type": "stream",
     "text": [
      "                         count unique         top   freq      mean       std  \\\n",
      "MEMBER_NO                62988    NaN         NaN    NaN   31494.5   18183.2   \n",
      "FFP_DATE                 62988   3068  2011/01/13    184       NaN       NaN   \n",
      "FIRST_FLIGHT_DATE        62988   3406  2013/02/16     96       NaN       NaN   \n",
      "GENDER                   62985      2           男  48134       NaN       NaN   \n",
      "FFP_TIER                 62988    NaN         NaN    NaN   4.10216  0.373856   \n",
      "WORK_CITY                60719   3310          广州   9385       NaN       NaN   \n",
      "WORK_PROVINCE            59740   1185          广东  17507       NaN       NaN   \n",
      "WORK_COUNTRY             62962    118          CN  57748       NaN       NaN   \n",
      "AGE                      62568    NaN         NaN    NaN   42.4763   9.88591   \n",
      "LOAD_TIME                62988      1  2014/03/31  62988       NaN       NaN   \n",
      "FLIGHT_COUNT             62988    NaN         NaN    NaN   11.8394   14.0495   \n",
      "BP_SUM                   62988    NaN         NaN    NaN   10925.1   16339.5   \n",
      "EP_SUM_YR_1              62988    NaN         NaN    NaN         0         0   \n",
      "EP_SUM_YR_2              62988    NaN         NaN    NaN    265.69    1645.7   \n",
      "SUM_YR_1                 62437    NaN         NaN    NaN   5355.38   8109.45   \n",
      "SUM_YR_2                 62850    NaN         NaN    NaN   5604.03   8703.36   \n",
      "SEG_KM_SUM               62988    NaN         NaN    NaN   17123.9   20960.8   \n",
      "WEIGHTED_SEG_KM          62988    NaN         NaN    NaN   12777.2   17578.6   \n",
      "LAST_FLIGHT_DATE         62988    731  2014/03/31    959       NaN       NaN   \n",
      "AVG_FLIGHT_COUNT         62988    NaN         NaN    NaN   1.54215     1.787   \n",
      "AVG_BP_SUM               62988    NaN         NaN    NaN   1421.44   2083.12   \n",
      "BEGIN_TO_FIRST           62988    NaN         NaN    NaN   120.145   159.573   \n",
      "LAST_TO_END              62988    NaN         NaN    NaN    176.12   183.822   \n",
      "AVG_INTERVAL             62988    NaN         NaN    NaN   67.7498   77.5179   \n",
      "MAX_INTERVAL             62988    NaN         NaN    NaN   166.034   123.397   \n",
      "ADD_POINTS_SUM_YR_1      62988    NaN         NaN    NaN   540.317   3956.08   \n",
      "ADD_POINTS_SUM_YR_2      62988    NaN         NaN    NaN   814.689    5121.8   \n",
      "EXCHANGE_COUNT           62988    NaN         NaN    NaN  0.319775     1.136   \n",
      "avg_discount             62988    NaN         NaN    NaN  0.721558  0.185427   \n",
      "P1Y_Flight_Count         62988    NaN         NaN    NaN   5.76626   7.21092   \n",
      "L1Y_Flight_Count         62988    NaN         NaN    NaN   6.07316   8.17513   \n",
      "P1Y_BP_SUM               62988    NaN         NaN    NaN   5366.72   8537.77   \n",
      "L1Y_BP_SUM               62988    NaN         NaN    NaN   5558.36   9351.96   \n",
      "EP_SUM                   62988    NaN         NaN    NaN    265.69    1645.7   \n",
      "ADD_Point_SUM            62988    NaN         NaN    NaN   1355.01   7868.48   \n",
      "Eli_Add_Point_Sum        62988    NaN         NaN    NaN    1620.7    8294.4   \n",
      "L1Y_ELi_Add_Points       62988    NaN         NaN    NaN   1080.38   5639.86   \n",
      "Points_Sum               62988    NaN         NaN    NaN   12545.8   20507.8   \n",
      "L1Y_Points_Sum           62988    NaN         NaN    NaN   6638.74   12601.8   \n",
      "Ration_L1Y_Flight_Count  62988    NaN         NaN    NaN  0.486419  0.319105   \n",
      "Ration_P1Y_Flight_Count  62988    NaN         NaN    NaN  0.513581  0.319105   \n",
      "Ration_P1Y_BPS           62988    NaN         NaN    NaN  0.522293  0.339632   \n",
      "Ration_L1Y_BPS           62988    NaN         NaN    NaN  0.468422  0.338956   \n",
      "Point_NotFlight          62988    NaN         NaN    NaN   2.72815   7.36416   \n",
      "\n",
      "                          min       50%       max  \n",
      "MEMBER_NO                   1   31494.5     62988  \n",
      "FFP_DATE                  NaN       NaN       NaN  \n",
      "FIRST_FLIGHT_DATE         NaN       NaN       NaN  \n",
      "GENDER                    NaN       NaN       NaN  \n",
      "FFP_TIER                    4         4         6  \n",
      "WORK_CITY                 NaN       NaN       NaN  \n",
      "WORK_PROVINCE             NaN       NaN       NaN  \n",
      "WORK_COUNTRY              NaN       NaN       NaN  \n",
      "AGE                         6        41       110  \n",
      "LOAD_TIME                 NaN       NaN       NaN  \n",
      "FLIGHT_COUNT                2         7       213  \n",
      "BP_SUM                      0      5700    505308  \n",
      "EP_SUM_YR_1                 0         0         0  \n",
      "EP_SUM_YR_2                 0         0     74460  \n",
      "SUM_YR_1                    0      2800    239560  \n",
      "SUM_YR_2                    0      2773    234188  \n",
      "SEG_KM_SUM                368      9994    580717  \n",
      "WEIGHTED_SEG_KM             0   6978.26    558440  \n",
      "LAST_FLIGHT_DATE          NaN       NaN       NaN  \n",
      "AVG_FLIGHT_COUNT         0.25     0.875    26.625  \n",
      "AVG_BP_SUM                  0   752.375   63163.5  \n",
      "BEGIN_TO_FIRST              0        50       729  \n",
      "LAST_TO_END                 1       108       731  \n",
      "AVG_INTERVAL                0   44.6667       728  \n",
      "MAX_INTERVAL                0       143       728  \n",
      "ADD_POINTS_SUM_YR_1         0         0    600000  \n",
      "ADD_POINTS_SUM_YR_2         0         0    728282  \n",
      "EXCHANGE_COUNT              0         0        46  \n",
      "avg_discount                0  0.711856       1.5  \n",
      "P1Y_Flight_Count            0         3       118  \n",
      "L1Y_Flight_Count            0         3       111  \n",
      "P1Y_BP_SUM                  0      2692    246197  \n",
      "L1Y_BP_SUM                  0      2547    259111  \n",
      "EP_SUM                      0         0     74460  \n",
      "ADD_Point_SUM               0         0    984938  \n",
      "Eli_Add_Point_Sum           0         0    984938  \n",
      "L1Y_ELi_Add_Points          0         0    728282  \n",
      "Points_Sum                  0    6328.5    985572  \n",
      "L1Y_Points_Sum              0    2860.5    728282  \n",
      "Ration_L1Y_Flight_Count     0       0.5         1  \n",
      "Ration_P1Y_Flight_Count     0       0.5         1  \n",
      "Ration_P1Y_BPS              0  0.514252  0.999989  \n",
      "Ration_L1Y_BPS              0  0.476747  0.999993  \n",
      "Point_NotFlight             0         0       140  \n"
     ]
    }
   ],
   "source": [
    "explore=data.describe(percentiles=[],include='all').T\n",
    "# 包括对数据的基本描述，percentiles参数是指定计算多少的分位数表（如1/4分位数，中位数等），\n",
    "# T是转置，转置后更方便查阅\n",
    "print(explore)\n",
    "# describe函数自动计算非空值数，需要手动计算空值数"
   ]
  },
  {
   "cell_type": "code",
   "execution_count": 34,
   "metadata": {
    "collapsed": true
   },
   "outputs": [
    {
     "name": "stdout",
     "output_type": "stream",
     "text": [
      "--------------------------------------------------\n",
      "                          空值数       最大数   最小值\n",
      "MEMBER_NO                   0     62988     1\n",
      "FFP_DATE                    0       NaN   NaN\n",
      "FIRST_FLIGHT_DATE           0       NaN   NaN\n",
      "GENDER                      3       NaN   NaN\n",
      "FFP_TIER                    0         6     4\n",
      "WORK_CITY                2269       NaN   NaN\n",
      "WORK_PROVINCE            3248       NaN   NaN\n",
      "WORK_COUNTRY               26       NaN   NaN\n",
      "AGE                       420       110     6\n",
      "LOAD_TIME                   0       NaN   NaN\n",
      "FLIGHT_COUNT                0       213     2\n",
      "BP_SUM                      0    505308     0\n",
      "EP_SUM_YR_1                 0         0     0\n",
      "EP_SUM_YR_2                 0     74460     0\n",
      "SUM_YR_1                  551    239560     0\n",
      "SUM_YR_2                  138    234188     0\n",
      "SEG_KM_SUM                  0    580717   368\n",
      "WEIGHTED_SEG_KM             0    558440     0\n",
      "LAST_FLIGHT_DATE            0       NaN   NaN\n",
      "AVG_FLIGHT_COUNT            0    26.625  0.25\n",
      "AVG_BP_SUM                  0   63163.5     0\n",
      "BEGIN_TO_FIRST              0       729     0\n",
      "LAST_TO_END                 0       731     1\n",
      "AVG_INTERVAL                0       728     0\n",
      "MAX_INTERVAL                0       728     0\n",
      "ADD_POINTS_SUM_YR_1         0    600000     0\n",
      "ADD_POINTS_SUM_YR_2         0    728282     0\n",
      "EXCHANGE_COUNT              0        46     0\n",
      "avg_discount                0       1.5     0\n",
      "P1Y_Flight_Count            0       118     0\n",
      "L1Y_Flight_Count            0       111     0\n",
      "P1Y_BP_SUM                  0    246197     0\n",
      "L1Y_BP_SUM                  0    259111     0\n",
      "EP_SUM                      0     74460     0\n",
      "ADD_Point_SUM               0    984938     0\n",
      "Eli_Add_Point_Sum           0    984938     0\n",
      "L1Y_ELi_Add_Points          0    728282     0\n",
      "Points_Sum                  0    985572     0\n",
      "L1Y_Points_Sum              0    728282     0\n",
      "Ration_L1Y_Flight_Count     0         1     0\n",
      "Ration_P1Y_Flight_Count     0         1     0\n",
      "Ration_P1Y_BPS              0  0.999989     0\n",
      "Ration_L1Y_BPS              0  0.999993     0\n",
      "Point_NotFlight             0       140     0\n"
     ]
    }
   ],
   "source": [
    "outfile='D:\\Entertainment\\jyputer\\Jyputer\\Airline Customer Value Analysis\\explore.xls'#探索结果分析表\n",
    "explore['null']=len(data)-explore['count'] #计算空值个数\n",
    "explore=explore[['null','max','min']] #获取数据的空值个数，每一列的最大值和最小值\n",
    "explore.columns=[u'空值数',u'最大数',u'最小值'] #表头重命名\n",
    "print('--------------------------------------------------')\n",
    "print(explore)\n",
    "explore.to_excel(outfile) #导出结果"
   ]
  },
  {
   "cell_type": "markdown",
   "metadata": {},
   "source": [
    "### 1.2 数据预处理"
   ]
  },
  {
   "cell_type": "markdown",
   "metadata": {},
   "source": [
    "由于原始数据中存在缺失值，票价最小值为0，折扣率最小值为0而飞行公里数大于0的记录，又因为原始数据\n",
    "量大，这些记录所占的比例较小，所以可将这些记录删除\n",
    "\n",
    "1、丢弃票价为空记录；2、丢弃票价为0，平均折扣率不为0，总飞行公里数大于0的记录"
   ]
  },
  {
   "cell_type": "code",
   "execution_count": 35,
   "metadata": {
    "collapsed": true
   },
   "outputs": [
    {
     "name": "stdout",
     "output_type": "stream",
     "text": [
      "       MEMBER_NO    FFP_DATE FIRST_FLIGHT_DATE GENDER  FFP_TIER  \\\n",
      "0          54993  2006/11/02        2008/12/24      男         6   \n",
      "1          28065  2007/02/19        2007/08/03      男         6   \n",
      "2          55106  2007/02/01        2007/08/30      男         6   \n",
      "3          21189  2008/08/22        2008/08/23      男         5   \n",
      "4          39546  2009/04/10        2009/04/15      男         6   \n",
      "5          56972  2008/02/10        2009/09/29      男         6   \n",
      "6          44924  2006/03/22        2006/03/29      男         6   \n",
      "7          22631  2010/04/09        2010/04/09      女         6   \n",
      "8          32197  2011/06/07        2011/07/01      男         5   \n",
      "9          31645  2010/07/05        2010/07/05      女         6   \n",
      "10         58877  2010/11/18        2010/11/20      女         6   \n",
      "11         37994  2004/11/13        2004/12/02      男         6   \n",
      "12         28012  2006/11/23        2007/11/18      男         5   \n",
      "13         54943  2006/10/25        2007/10/27      男         6   \n",
      "14         57881  2010/02/01        2010/02/01      女         6   \n",
      "15          1254  2008/03/28        2008/04/05      男         4   \n",
      "16          8253  2010/07/15        2010/08/20      男         6   \n",
      "17         58899  2010/11/10        2011/02/23      女         6   \n",
      "18         26955  2006/04/06        2007/02/22      男         6   \n",
      "19         41616  2011/08/29        2011/10/22      男         6   \n",
      "20         21501  2008/07/30        2008/11/21      男         6   \n",
      "21         41281  2011/06/07        2011/06/09      男         6   \n",
      "22         47229  2005/04/10        2005/04/10      男         6   \n",
      "23         28474  2010/04/13        2010/04/13      男         6   \n",
      "24         58472  2010/02/14        2010/03/01      女         5   \n",
      "25         13942  2010/10/14        2010/11/01      男         6   \n",
      "26         45075  2007/02/01        2007/03/23      男         6   \n",
      "27         47114  2005/01/15        2005/03/17      男         6   \n",
      "28         54619  2006/01/07        2006/01/08      男         6   \n",
      "29         12349  2008/06/16        2008/06/27      男         6   \n",
      "...          ...         ...               ...    ...       ...   \n",
      "62948      43506  2013/03/11        2013/03/12      男         4   \n",
      "62949        355  2012/03/29        2013/10/23      男         4   \n",
      "62950      31906  2011/03/09        2013/09/10      男         4   \n",
      "62951       9448  2013/02/05        2013/10/25      男         4   \n",
      "62952      10798  2012/10/18        2012/11/11      男         4   \n",
      "62953      48477  2008/08/08        2008/12/06      男         4   \n",
      "62954      56977  2007/12/09        2007/12/09      男         4   \n",
      "62956       2213  2005/05/18        2005/07/19      女         4   \n",
      "62957      37765  2012/06/26        2013/09/13      女         4   \n",
      "62958      52412  2013/02/22        2013/02/22      男         4   \n",
      "62959      47026  2013/03/03        2013/07/28      男         4   \n",
      "62960      11699  2008/02/13        2013/07/15      女         4   \n",
      "62961       3305  2009/12/12        2009/12/13      男         4   \n",
      "62962       5515  2011/07/17        2011/07/17      男         4   \n",
      "62963      10999  2004/12/16        2004/12/18      女         4   \n",
      "62964      34341  2013/01/31        2013/01/31      男         4   \n",
      "62965      57428  2008/12/05        2008/12/05      女         4   \n",
      "62966      60676  2012/07/12        2013/02/08      男         4   \n",
      "62967        359  2012/04/12        2012/05/30      男         4   \n",
      "62968       1405  2010/07/07        2010/09/24      男         4   \n",
      "62969      25238  2012/10/23        2012/10/23      女         4   \n",
      "62970      38088  2005/03/11        2005/06/16      女         4   \n",
      "62971      45524  2013/02/12        2013/04/03      女         4   \n",
      "62972        197  2011/01/14        2013/09/26      男         4   \n",
      "62973       7445  2013/03/29        2013/04/06      男         4   \n",
      "62974      11163  2005/05/08        2005/08/26      男         4   \n",
      "62975      30765  2008/11/16        2013/11/30      男         4   \n",
      "62976      10380  2010/07/08        2011/06/21      男         4   \n",
      "62977      16372  2012/12/20        2012/12/20      男         4   \n",
      "62978      22761  2011/04/14        2011/04/14      男         4   \n",
      "\n",
      "             WORK_CITY WORK_PROVINCE WORK_COUNTRY   AGE   LOAD_TIME  \\\n",
      "0                    .            北京           CN  31.0  2014/03/31   \n",
      "1                  NaN            北京           CN  42.0  2014/03/31   \n",
      "2                    .            北京           CN  40.0  2014/03/31   \n",
      "3          Los Angeles            CA           US  64.0  2014/03/31   \n",
      "4                   贵阳            贵州           CN  48.0  2014/03/31   \n",
      "5                   广州            广东           CN  64.0  2014/03/31   \n",
      "6                乌鲁木齐市            新疆           CN  46.0  2014/03/31   \n",
      "7                  温州市            浙江           CN  50.0  2014/03/31   \n",
      "8               DRANCY           NaN           FR  50.0  2014/03/31   \n",
      "9                   温州            浙江           CN  43.0  2014/03/31   \n",
      "10               PARIS         PARIS           FR  34.0  2014/03/31   \n",
      "11                  北京             .           CN  47.0  2014/03/31   \n",
      "12          SAN MARINO            CA           US  58.0  2014/03/31   \n",
      "13                  深圳            广东           CN  47.0  2014/03/31   \n",
      "14                  广州            广东           CN  45.0  2014/03/31   \n",
      "15     BOWLAND HEIGHTS    CALIFORNIA           US  63.0  2014/03/31   \n",
      "16                乌鲁木齐            新疆           CN  48.0  2014/03/31   \n",
      "17               PARIS           NaN           FR  50.0  2014/03/31   \n",
      "18               乌鲁木齐市            新疆           CN  54.0  2014/03/31   \n",
      "19                  东莞            广东           CN  41.0  2014/03/31   \n",
      "20                   .            北京           CN  49.0  2014/03/31   \n",
      "21              VECHEL  NORD BRABANT           AN   NaN  2014/03/31   \n",
      "22                  广州            广东           CN  69.0  2014/03/31   \n",
      "23                 NaN            CA           US  41.0  2014/03/31   \n",
      "24                 NaN           NaN           FR  48.0  2014/03/31   \n",
      "25               PARIS        FRANCE           FR  39.0  2014/03/31   \n",
      "26                  湛江            广东           CN  46.0  2014/03/31   \n",
      "27                   .            北京           CN  47.0  2014/03/31   \n",
      "28                  广州            广东           CN  62.0  2014/03/31   \n",
      "29                  深圳            广东           CN  46.0  2014/03/31   \n",
      "...                ...           ...          ...   ...         ...   \n",
      "62948               广州            广东            中  46.0  2014/03/31   \n",
      "62949               东莞            广东           CN  34.0  2014/03/31   \n",
      "62950              NaN           NaN           TW  51.0  2014/03/31   \n",
      "62951               广州            广东           CN  33.0  2014/03/31   \n",
      "62952               汕头            广东           CN  70.0  2014/03/31   \n",
      "62953               广州            广东           CN  47.0  2014/03/31   \n",
      "62954               台北           NaN           TW  44.0  2014/03/31   \n",
      "62956              NaN           NaN           CN  45.0  2014/03/31   \n",
      "62957               东莞            广东           CN  54.0  2014/03/31   \n",
      "62958               台北           NaN           TW  24.0  2014/03/31   \n",
      "62959               化州            广东           CN  25.0  2014/03/31   \n",
      "62960               南宁            广西           CN  73.0  2014/03/31   \n",
      "62961               陵水            海南           CN  46.0  2014/03/31   \n",
      "62962               广州            广东           CN  31.0  2014/03/31   \n",
      "62963              南海市           广东省           CN  60.0  2014/03/31   \n",
      "62964         SURABAYA     JAWATIMUR           ID  40.0  2014/03/31   \n",
      "62965               广州            广东           CN  34.0  2014/03/31   \n",
      "62966           RIYADH           NaN           AA  37.0  2014/03/31   \n",
      "62967              NaN            广东           CN  34.0  2014/03/31   \n",
      "62968               广州            广东           CN  44.0  2014/03/31   \n",
      "62969               广州            广东           CN  39.0  2014/03/31   \n",
      "62970              NaN           NaN           CN  47.0  2014/03/31   \n",
      "62971               广州            广东           CN  29.0  2014/03/31   \n",
      "62972              广州市            广东           CN  36.0  2014/03/31   \n",
      "62973               广州            广东           CN  73.0  2014/03/31   \n",
      "62974              NaN           NaN           CN  34.0  2014/03/31   \n",
      "62975           TAIPEI           NaN           TW  38.0  2014/03/31   \n",
      "62976              贵阳市           贵州省           CN  33.0  2014/03/31   \n",
      "62977               桃园           NaN           TW  47.0  2014/03/31   \n",
      "62978               汕头           广东省           CN  48.0  2014/03/31   \n",
      "\n",
      "            ...         ADD_Point_SUM  Eli_Add_Point_Sum  L1Y_ELi_Add_Points  \\\n",
      "0           ...                 39992             114452              111100   \n",
      "1           ...                 12000              53288               53288   \n",
      "2           ...                 15491              55202               51711   \n",
      "3           ...                     0              34890               34890   \n",
      "4           ...                 22704              64969               64969   \n",
      "5           ...                  2460              29783               29783   \n",
      "6           ...                 12320              50009               50009   \n",
      "7           ...                  9500              49334               49334   \n",
      "8           ...                   500              32200               32200   \n",
      "9           ...                     0              47052               47052   \n",
      "10          ...                   500              39518               39518   \n",
      "11          ...                 52469              97008               76998   \n",
      "12          ...                     0              35539               35539   \n",
      "13          ...                  2664              29090               26426   \n",
      "14          ...                   400              38428               38028   \n",
      "15          ...                   500              23838               23838   \n",
      "16          ...                 13817              37198               37198   \n",
      "17          ...                     0              31823               31823   \n",
      "18          ...                 12865              34901               34901   \n",
      "19          ...                     0              24656               24656   \n",
      "20          ...                     0              30493               30493   \n",
      "21          ...                  1000              30947               30947   \n",
      "22          ...                 49003              84225               67205   \n",
      "23          ...                     0              24423               24423   \n",
      "24          ...                   500              31138               31138   \n",
      "25          ...                   900              33163               32763   \n",
      "26          ...                556788             577589              384620   \n",
      "27          ...                  5322              25366               22504   \n",
      "28          ...                  3552              28425               24873   \n",
      "29          ...                  1776              24215               22439   \n",
      "...         ...                   ...                ...                 ...   \n",
      "62948       ...                     0                  0                   0   \n",
      "62949       ...                 10211              10211                8383   \n",
      "62950       ...                     0                  0                   0   \n",
      "62951       ...                     0                  0                   0   \n",
      "62952       ...                     0                  0                   0   \n",
      "62953       ...                     0                  0                   0   \n",
      "62954       ...                     0                  0                   0   \n",
      "62956       ...                     0                  0                   0   \n",
      "62957       ...                     0                  0                   0   \n",
      "62958       ...                     0                  0                   0   \n",
      "62959       ...                     0                  0                   0   \n",
      "62960       ...                     0                  0                   0   \n",
      "62961       ...                     0                  0                   0   \n",
      "62962       ...                     0                  0                   0   \n",
      "62963       ...                     0                  0                   0   \n",
      "62964       ...                     0                  0                   0   \n",
      "62965       ...                     0                  0                   0   \n",
      "62966       ...                     0                  0                   0   \n",
      "62967       ...                     0                  0                   0   \n",
      "62968       ...                     0                  0                   0   \n",
      "62969       ...                     0                  0                   0   \n",
      "62970       ...                     0                  0                   0   \n",
      "62971       ...                   134                134                 134   \n",
      "62972       ...                 20679              20679               12707   \n",
      "62973       ...                     0                  0                   0   \n",
      "62974       ...                   500                500                 500   \n",
      "62975       ...                     0                  0                   0   \n",
      "62976       ...                     0                  0                   0   \n",
      "62977       ...                     0                  0                   0   \n",
      "62978       ...                     0                  0                   0   \n",
      "\n",
      "       Points_Sum  L1Y_Points_Sum  Ration_L1Y_Flight_Count  \\\n",
      "0          619760          370211                 0.509524   \n",
      "1          415768          238410                 0.514286   \n",
      "2          406361          233798                 0.518519   \n",
      "3          372204          186100                 0.434783   \n",
      "4          338813          210365                 0.532895   \n",
      "5          343121          152538                 0.456522   \n",
      "6          298873          175673                 0.504950   \n",
      "7          351198          193601                 0.589041   \n",
      "8          295158          168028                 0.410714   \n",
      "9          251907          143958                 0.390625   \n",
      "10         337839          197445                 0.534884   \n",
      "11         353101          231452                 0.606897   \n",
      "12         245808          156214                 0.517241   \n",
      "13         270704          158779                 0.559322   \n",
      "14         328345          186491                 0.500000   \n",
      "15         310002          143671                 0.500000   \n",
      "16         257193          151717                 0.544554   \n",
      "17         281705          137196                 0.625000   \n",
      "18         249914          139498                 0.500000   \n",
      "19         215694          116995                 0.473684   \n",
      "20         251134          176428                 0.584906   \n",
      "21         286520          188808                 0.652174   \n",
      "22         277394          188661                 0.542553   \n",
      "23         280760          127944                 0.350000   \n",
      "24         235939          160312                 0.613636   \n",
      "25         274882          152718                 0.677419   \n",
      "26         795398          474610                 0.446009   \n",
      "27         235176          119623                 0.459459   \n",
      "28         237787          143047                 0.514851   \n",
      "29         224081          137148                 0.517241   \n",
      "...           ...             ...                      ...   \n",
      "62948        1000               0                 0.000000   \n",
      "62949       10211            8383                 1.000000   \n",
      "62950         700             700                 1.000000   \n",
      "62951           0               0                 1.000000   \n",
      "62952         400               0                 0.000000   \n",
      "62953           0               0                 1.000000   \n",
      "62954         700               0                 0.000000   \n",
      "62956           0               0                 1.000000   \n",
      "62957        1000            1000                 1.000000   \n",
      "62958         700             200                 0.500000   \n",
      "62959           0               0                 1.000000   \n",
      "62960           0               0                 1.000000   \n",
      "62961         400               0                 0.000000   \n",
      "62962         400               0                 0.000000   \n",
      "62963         400             400                 1.000000   \n",
      "62964         400               0                 0.000000   \n",
      "62965         400               0                 0.000000   \n",
      "62966         400               0                 0.000000   \n",
      "62967           0               0                 0.000000   \n",
      "62968           0               0                 0.000000   \n",
      "62969           0               0                 0.000000   \n",
      "62970           0               0                 0.000000   \n",
      "62971         134             134                 1.000000   \n",
      "62972       20679           12707                 1.000000   \n",
      "62973           0               0                 1.000000   \n",
      "62974         900             900                 1.000000   \n",
      "62975         400             400                 1.000000   \n",
      "62976         213               0                 0.500000   \n",
      "62977           0               0                 0.000000   \n",
      "62978           0               0                 1.000000   \n",
      "\n",
      "       Ration_P1Y_Flight_Count  Ration_P1Y_BPS Ration_L1Y_BPS  Point_NotFlight  \n",
      "0                     0.490476        0.487221       0.512777               50  \n",
      "1                     0.485714        0.489289       0.510708               33  \n",
      "2                     0.481481        0.481467       0.518530               26  \n",
      "3                     0.565217        0.551722       0.448275               12  \n",
      "4                     0.467105        0.469054       0.530943               39  \n",
      "5                     0.543478        0.608233       0.391764               15  \n",
      "6                     0.495050        0.495048       0.504948               29  \n",
      "7                     0.410959        0.522078       0.477919               14  \n",
      "8                     0.589286        0.483459       0.516537                7  \n",
      "9                     0.609375        0.526951       0.473044               16  \n",
      "10                    0.465116        0.470612       0.529384                3  \n",
      "11                    0.393103        0.396882       0.603114               66  \n",
      "12                    0.482759        0.426090       0.573905                4  \n",
      "13                    0.440678        0.452211       0.547785               20  \n",
      "14                    0.500000        0.487910       0.512086               12  \n",
      "15                    0.500000        0.581242       0.418755                8  \n",
      "16                    0.455446        0.479445       0.520550               22  \n",
      "17                    0.375000        0.578307       0.421689               13  \n",
      "18                    0.500000        0.513529       0.486466               23  \n",
      "19                    0.526316        0.516643       0.483352                3  \n",
      "20                    0.415094        0.338585       0.661411                9  \n",
      "21                    0.347826        0.382324       0.617672                9  \n",
      "22                    0.457447        0.371243       0.628752               46  \n",
      "23                    0.650000        0.596150       0.403846                9  \n",
      "24                    0.386364        0.369269       0.630726               12  \n",
      "25                    0.322581        0.503740       0.496256               10  \n",
      "26                    0.553991        0.586837       0.413158               49  \n",
      "27                    0.540541        0.537107       0.462888               14  \n",
      "28                    0.485149        0.435550       0.564445               11  \n",
      "29                    0.482759        0.426068       0.573927               15  \n",
      "...                        ...             ...            ...              ...  \n",
      "62948                 1.000000        0.999001       0.000000                0  \n",
      "62949                 0.000000        0.000000       0.000000               26  \n",
      "62950                 0.000000        0.000000       0.998573                0  \n",
      "62951                 0.000000        0.000000       0.000000                0  \n",
      "62952                 1.000000        0.997506       0.000000                0  \n",
      "62953                 0.000000        0.000000       0.000000                0  \n",
      "62954                 1.000000        0.998573       0.000000                0  \n",
      "62956                 0.000000        0.000000       0.000000                0  \n",
      "62957                 0.000000        0.000000       0.999001                0  \n",
      "62958                 0.500000        0.713267       0.285307                0  \n",
      "62959                 0.000000        0.000000       0.000000                0  \n",
      "62960                 0.000000        0.000000       0.000000                0  \n",
      "62961                 1.000000        0.997506       0.000000                0  \n",
      "62962                 1.000000        0.997506       0.000000                0  \n",
      "62963                 0.000000        0.000000       0.997506                0  \n",
      "62964                 1.000000        0.997506       0.000000                0  \n",
      "62965                 1.000000        0.997506       0.000000                0  \n",
      "62966                 1.000000        0.997506       0.000000                0  \n",
      "62967                 1.000000        0.000000       0.000000                0  \n",
      "62968                 1.000000        0.000000       0.000000                0  \n",
      "62969                 1.000000        0.000000       0.000000                0  \n",
      "62970                 1.000000        0.000000       0.000000                0  \n",
      "62971                 0.000000        0.000000       0.000000                4  \n",
      "62972                 0.000000        0.000000       0.000000               45  \n",
      "62973                 0.000000        0.000000       0.000000                0  \n",
      "62974                 0.000000        0.000000       0.997506                1  \n",
      "62975                 0.000000        0.000000       0.997506                0  \n",
      "62976                 0.500000        0.995327       0.000000                1  \n",
      "62977                 1.000000        0.000000       0.000000                0  \n",
      "62978                 0.000000        0.000000       0.000000                0  \n",
      "\n",
      "[62044 rows x 44 columns]\n"
     ]
    }
   ],
   "source": [
    "import pandas as pd\n",
    "data=pd.read_csv(r\"D:\\Entertainment\\jyputer\\Jyputer\\Airline Customer Value Analysis\\demo\\data\\air_data.csv\",encoding='utf-8') #读取原始数据，指定URF-8编码\n",
    "cleanedfile='D:\\Entertainment\\jyputer\\Jyputer\\Airline Customer Value Analysis\\cleanedfile.xls'\n",
    "data=data[data['SUM_YR_1'].notnull()& data['SUM_YR_2'].notnull()]\n",
    "# 票价非空值才保留；只保留票价非0的或者平均折扣率与总飞行公里数同时为0的记录\n",
    "index1=data['SUM_YR_1']!=0\n",
    "index2=data['SUM_YR_2']!=0\n",
    "index3=(data['SEG_KM_SUM']==0)&(data['avg_discount']==0)\n",
    "data=data[index1|index2|index3]#该规则是“或”\n",
    "print(data)\n",
    "data.to_excel(cleanedfile)#导出清洗后的数据"
   ]
  },
  {
   "cell_type": "markdown",
   "metadata": {},
   "source": [
    "## 2、属性规约"
   ]
  },
  {
   "cell_type": "markdown",
   "metadata": {},
   "source": [
    "原始数据中属性太多，根据航空公司客户价值LRFMC模型，选择与LRFMC指标相关的6个属性：\n",
    "FFP_DATE(入会时间),LOAD_TIME(观测窗口的结束时间),FLIGHT_COUNT(观测窗口内的飞行次数)、AVG_DISCOUNT(平均折扣率)、\n",
    "SEG_KM_SUM(观测窗口的总飞行公里数)、LAST_TO_END(最后一次乘机时间至观测窗口结束时长),删除\n",
    "与其不相关。弱相关或冗余的属性。经过属性选择后的数据集。"
   ]
  },
  {
   "cell_type": "markdown",
   "metadata": {},
   "source": [
    "### 2.1  数据变换"
   ]
  },
  {
   "cell_type": "markdown",
   "metadata": {},
   "source": [
    "#### LRFMC（客户关系长度L;消费时间间隔R;消费频率F;飞行里程M;折扣系数的平均值C）五个指标：\n",
    "\n",
    "L=LOAD_TIME-FFP_DATE:会员入会时间距观测窗口结束的月数=观测窗口的结束时间-入会时间\n",
    "    \n",
    "R=LAST_TO_END:客户最近一次乘坐公司飞机距观测窗口结束的月数=最后一次乘坐时间至观测窗口末端时长\n",
    "\n",
    "F=FLIGHT_COUNT:客户在观测窗口内乘坐公司飞机的次数=观测窗口的飞行次数\n",
    "    \n",
    "M=SEG_KM_SUM:客户在观测时间内在公司累计的飞行里程=观测窗口的总飞行公里数\n",
    "\n",
    "C=AVG_DISCOUNT:客户在观测时间内乘坐舱位所对应的折扣系数的平均值=平均折扣率"
   ]
  },
  {
   "cell_type": "code",
   "execution_count": 1,
   "metadata": {},
   "outputs": [],
   "source": [
    "import pandas as pd\n",
    "cleanedfile='D:\\Entertainment\\jyputer\\Jyputer\\Airline Customer Value Analysis\\cleanedfile.xls'#清洗过的数据\n",
    "processfile='D:\\Entertainment\\jyputer\\Jyputer\\Airline Customer Value Analysis\\zscored.xls' # 属性构造的结果\n",
    "data=pd.read_excel(cleanedfile,encoding='utf-8') # 读取文件\n",
    "data.index=range(0,len(data)) # 清洗过的数据索引从0开始\n",
    "import datetime\n",
    "import time\n",
    "for i in range(len(data)):\n",
    "    data.loc[i,'s1']=datetime.datetime.strptime(data.loc[i,'LOAD_TIME'],'%Y/%m/%d')#将字符串格式转化为日期格式\n",
    "    data.loc[i,'s2']=datetime.datetime.strptime(data.loc[i,'FFP_DATE'],'%Y/%m/%d')\n",
    "\n",
    "data['入会时间 L']=(data['s1']-data['s2'])/30  #以30为单位计算日期相差的月数\n",
    "data['消费时间间隔 R']=data['LAST_TO_END']\n",
    "data['飞行次数 F']=data['FLIGHT_COUNT']\n",
    "data['总里程 M']=data['SEG_KM_SUM']\n",
    "data['平均折扣率 C']=data['avg_discount']\n",
    "data=data[['入会时间 L','消费时间间隔 R','飞行次数 F','总里程 M','平均折扣率 C']] # 重新构造属性的数据集\n",
    "print(data[0:5])\n",
    "print(data.info())\n",
    "data.to_excel(processfile)"
   ]
  },
  {
   "cell_type": "code",
   "execution_count": 2,
   "metadata": {},
   "outputs": [
    {
     "name": "stdout",
     "output_type": "stream",
     "text": [
      "     入会时间 L  消费时间间隔 R     飞行次数 F      总里程 M   平均折扣率 C\n",
      "0  1.435707 -0.944948  14.034016  26.761154  1.295540\n",
      "1  1.307152 -0.911894   9.073213  13.126864  2.868176\n",
      "2  1.328381 -0.889859   8.718869  12.653481  2.880950\n",
      "3  0.658476 -0.416098   0.781585  12.540622  1.994714\n",
      "4  0.386032 -0.922912   9.923636  13.898736  1.344335\n"
     ]
    }
   ],
   "source": [
    "import pandas as pd\n",
    "filename='D:\\Entertainment\\jyputer\\Jyputer\\Airline Customer Value Analysis\\zscored.xls'#属性构造后的数据\n",
    "zscorefile='D:\\Entertainment\\jyputer\\Jyputer\\Airline Customer Value Analysis\\zscoreddata.xls'#标准化后的数据\n",
    "data=pd.read_excel(filename,encoding='utf-8')\n",
    "data=(data-data.mean(axis=0))/data.std(axis=0) #标准化处理\n",
    "print(data[0:5])\n",
    "data.to_excel(zscorefile)\n",
    "\n",
    "# axis=0表示列，axis=1表示行（axis是轴的意思）"
   ]
  },
  {
   "cell_type": "markdown",
   "metadata": {},
   "source": [
    "## 3、模型构建"
   ]
  },
  {
   "cell_type": "markdown",
   "metadata": {},
   "source": [
    "### 3.1 客户聚类"
   ]
  },
  {
   "cell_type": "markdown",
   "metadata": {},
   "source": [
    "对于K-means方法，k的取值是一个难点，因为是无监督的聚类分析问题，所以不存在绝对正确的值，需要进行\n",
    "研究试探。这里采用计算SSE的方法，尝试找到最好的k数值。"
   ]
  },
  {
   "cell_type": "markdown",
   "metadata": {},
   "source": [
    "#### 使用肘部法则估计聚类数目：如果问题中没有指定聚类数目k的值，可以通过肘部法则来估计聚类数量。\n",
    "\n",
    "肘部法则会把不同k值的成本函数值画出来。随着k值得增大，平均畸变程度会减小；每个类包含的样本数会减少，于是样本离其重心会更近。但是，随着K值继续增大，平均畸变程度的改善效果会不断减低。k值增大过程中，畸变程度的改善效果下降幅度最大的位置对应的k值就是肘部。"
   ]
  },
  {
   "cell_type": "markdown",
   "metadata": {},
   "source": [
    "#### 需要解释的一点：每个类的畸变程度等于该类重心与其内部成员位置距离的平方和。也就是我们前面所说的每个类的类内离差平方和。若类内部的成员彼此间越紧凑则类的畸变程度越小，反之，若类内部的成员彼此间越分散则类的畸变程度越大。"
   ]
  },
  {
   "cell_type": "markdown",
   "metadata": {},
   "source": [
    "聚类算法 from sklearn.cluster import KMeans \n",
    "\n",
    "1、输入参数：n_clusters:要分成的簇数也是要生成的质心数(int);init:初始化质心;n_init: 设置选择质心种子次数，默认为10次。返回质心最好的一次结果（好是指计算时长短）;\n",
    "            max_iter：每次迭代的最大次数;tol: 容忍的最小误差，当误差小于tol就会退出迭代（算法中会依赖数据本身）;\n",
    "            n_jobs: 使用进程的数量，与电脑的CPU有关\n",
    "                \n",
    "2、输出参数：label_:每个样本对应的簇类别标签；cluster_centers_：聚类中心"
   ]
  },
  {
   "cell_type": "code",
   "execution_count": 33,
   "metadata": {},
   "outputs": [
    {
     "name": "stdout",
     "output_type": "stream",
     "text": [
      "簇数是 2 时；SSE是 229344.90680960665\n",
      "簇数是 3 时；SSE是 184343.94862352242\n",
      "簇数是 4 时；SSE是 151010.7805997851\n",
      "簇数是 5 时；SSE是 133360.08860757778\n",
      "簇数是 6 时；SSE是 118067.14418195382\n",
      "簇数是 7 时；SSE是 107633.45693554601\n",
      "簇数是 8 时；SSE是 100706.27563872359\n",
      "簇数是 9 时；SSE是 93871.95982464119\n"
     ]
    }
   ],
   "source": [
    "import numpy as np\n",
    "import pandas as pd\n",
    "from sklearn.cluster import KMeans #导入K-均值聚类算法\n",
    "# k_means聚类算法位于scikit_learn库下的聚类子库（sklearn.cluster）\n",
    "filename='D:\\Entertainment\\jyputer\\Jyputer\\Airline Customer Value Analysis\\zscoreddata.xls'\n",
    "data=pd.read_excel(filename,encoding='utf-8')\n",
    "# 计算两个向量的欧式距离的平方，并返回\n",
    "def distEclud(vecA,vecB):\n",
    "    return np.sum(np.power(vecA-vecB,2))\n",
    "\n",
    "# 计算不同的k值时，SSE的大小变化\n",
    "def test_Kmeans_nclusters(data_train):\n",
    "    data_trian=data_train.values\n",
    "    nums=range(2,10)\n",
    "    SSE=[]\n",
    "    for num in nums:\n",
    "        sse=0\n",
    "        # 调用kmeans算法，进行聚类分析\n",
    "        kmodel=KMeans(n_clusters=num,n_jobs=4)  # n_clusters:要分成的簇数也就是生成的质心数，n_jobs并行数，一般等于菜cpu数目\n",
    "        kmodel.fit(data_train) # 训练模型\n",
    "        \n",
    "        # 找出聚类中心\n",
    "        cluster_ceter_list=kmodel.cluster_centers_\n",
    "        # 统计各个类别的数目\n",
    "        cluster_list=kmodel.labels_.tolist() # to_list（）将数组和矩阵转化为列表\n",
    "\n",
    "        # 分为num类，同时用%time（%time km.fit(data_train)）来测定运行时间，把分类标签labels格式变为list\n",
    "        \n",
    "        sse=kmodel.inertia_\n",
    "        \n",
    "        # for index in range(len(data)):\n",
    "            #cluster_num=cluster_list[index]\n",
    "            #sse+=distEclud(data_train[index,:],cluster_ceter_list[cluster_num])\n",
    "        print(u\"簇数是\",num,u\"时；SSE是\",sse)\n",
    "        SSE.append(sse) # append（）将元素添加到已有list的末尾，多用于for.in 循环\n",
    "    return nums,SSE\n",
    "\n",
    "    \n",
    "nums,SSE=test_Kmeans_nclusters(data)"
   ]
  },
  {
   "cell_type": "markdown",
   "metadata": {},
   "source": [
    "轮廓系数的使用：https://www.plob.org/article/12351.html"
   ]
  },
  {
   "cell_type": "code",
   "execution_count": 34,
   "metadata": {},
   "outputs": [
    {
     "name": "stdout",
     "output_type": "stream",
     "text": [
      "range(2, 10) [229344.90680960665, 184343.94862352242, 151010.7805997851, 133360.08860757778, 118067.14418195382, 107633.45693554601, 100706.27563872359, 93871.95982464119]\n"
     ]
    }
   ],
   "source": [
    "print(nums,SSE)"
   ]
  },
  {
   "cell_type": "code",
   "execution_count": 36,
   "metadata": {},
   "outputs": [
    {
     "data": {
      "image/png": "[encoded data removed]",
      "text/plain": [
       "<Figure size 432x288 with 1 Axes>"
      ]
     },
     "metadata": {},
     "output_type": "display_data"
    }
   ],
   "source": [
    "# 画图，通过观测SSE与k值的取值尝试找出合适的k值\n",
    "import matplotlib.pyplot as plt\n",
    "\n",
    "# 绘画观测SSE和簇个数的关系\n",
    "plt.plot(nums,SSE,'bx-')\n",
    "plt.xlabel(\"n_clusters\")\n",
    "plt.ylabel(\"SSE\")\n",
    "plt.title(u'用肘部法则来确定最佳的k值')\n",
    "plt.show()"
   ]
  },
  {
   "cell_type": "markdown",
   "metadata": {},
   "source": [
    "观测图像，并没有的所谓的“肘”点出现，是随着k值的增大逐渐减少的，这里选取当k分别取4,5,6时\n",
    "进行，看能不能通过分析结果来反向选取更合适的值，k取值4时的代码如下"
   ]
  },
  {
   "cell_type": "code",
   "execution_count": 42,
   "metadata": {},
   "outputs": [
    {
     "data": {
      "image/png": "[encoded data removed]",
      "text/plain": [
       "<Figure size 720x576 with 1 Axes>"
      ]
     },
     "metadata": {},
     "output_type": "display_data"
    }
   ],
   "source": [
    "import numpy as np\n",
    "import pandas as pd\n",
    "from sklearn.cluster import KMeans #导入K-均值聚类算法\n",
    "# k_means聚类算法位于scikit_learn库下的聚类子库（sklearn.cluster）\n",
    "filename='D:\\Entertainment\\jyputer\\Jyputer\\Airline Customer Value Analysis\\zscoreddata.xls'\n",
    "data=pd.read_excel(filename,encoding='utf-8')\n",
    "kmodel=KMeans(n_clusters=4,n_jobs=4)\n",
    "kmodel.fit(data)\n",
    "\n",
    "# 简单打印结果\n",
    "r1=pd.Series(kmodel.labels_).value_counts()# 统计各个类别的数目\n",
    "r2=pd.DataFrame(kmodel.cluster_centers_)#找出聚类中心\n",
    "# 所有簇中心坐标值中最大值和最小值\n",
    "max=r2.values.max()\n",
    "min=r2.values.min()\n",
    "r=pd.concat([r2,r1],axis=1)#横向连接（0是纵向），得到聚类中心对应的类别下的数目\n",
    "r.columns=list(data.columns)+[u'类别数目']#重命名表头\n",
    "\n",
    "# 绘画\n",
    "fig=plt.figure(figsize=(10,8))\n",
    "ax=fig.add_subplot(111,polar=True)\n",
    "center_num=r.values\n",
    "\n",
    "feature = ['入会时间 L','消费时间间隔 R','飞行次数 F','总里程 M','平均折扣率 C']\n",
    "N =len(feature)\n",
    "for i, v in enumerate(center_num):\n",
    "    # 设置雷达图的角度，用于平分切开一个圆面\n",
    "    angles=np.linspace(0, 2*np.pi, N, endpoint=False)\n",
    "    # 为了使雷达图一圈封闭起来，需要下面的步骤\n",
    "    center = np.concatenate((v[:-1],[v[0]]))\n",
    "    angles=np.concatenate((angles,[angles[0]]))\n",
    "    # 绘制折线图\n",
    "    ax.plot(angles, center, 'o-', linewidth=2, label = \"第%d簇人群,%d人\"% (i+1,v[-1]))\n",
    "    # 填充颜色\n",
    "    ax.fill(angles, center, alpha=0.25)\n",
    "    # 添加每个特征的标签\n",
    "    ax.set_thetagrids(angles * 180/np.pi, feature, fontsize=15)\n",
    "    # 设置雷达图的范围\n",
    "    ax.set_ylim(min-0.1, max+0.1)\n",
    "    # 添加标题\n",
    "    plt.title('客户群特征分析图', fontsize=20)\n",
    "    # 添加网格线\n",
    "    ax.grid(True)\n",
    "    # 设置图例\n",
    "    plt.legend(loc='upper right', bbox_to_anchor=(1.3,1.0),ncol=1,fancybox=True,shadow=True)\n",
    "    \n",
    "# 保存图片 save\n",
    "plt.savefig(r'D:\\Entertainment\\jyputer\\Jyputer\\Airline Customer Value Analysis\\cluster_four.png')\n",
    "\n",
    "# 显示图形\n",
    "plt.show()\n"
   ]
  },
  {
   "cell_type": "code",
   "execution_count": 54,
   "metadata": {},
   "outputs": [
    {
     "data": {
      "image/png": "[encoded data removed]",
      "text/plain": [
       "<Figure size 1080x720 with 1 Axes>"
      ]
     },
     "metadata": {},
     "output_type": "display_data"
    }
   ],
   "source": [
    "import matplotlib.pyplot as plt # plt 用于显示图片\n",
    "import matplotlib.image as mping #mping用于读取图片\n",
    "import numpy as np\n",
    "from scipy import misc # 对图像进行放缩\n",
    "\n",
    "four=mping.imread(r'D:\\Entertainment\\jyputer\\Jyputer\\Airline Customer Value Analysis\\cluster_four.png')\n",
    "# 读取和代码处于同一目录下的four.png, 此时four就已经是一个np.array,可以对它进行任意处理\n",
    "plt.figure(figsize=(15,10),facecolor=\"b\")# 改变图片的大小\n",
    "# figsize：指定figure的宽和高，单位为英寸；facecolor：背景颜色；edgecolor：边框颜色；\n",
    "# frameon：是否显示边框\n",
    "plt.imshow(four)# x显示图片\n",
    "plt.axis('off') #不显示坐标轴\n",
    "plt.show()"
   ]
  },
  {
   "cell_type": "markdown",
   "metadata": {},
   "source": [
    "## 小插曲······"
   ]
  },
  {
   "cell_type": "markdown",
   "metadata": {},
   "source": [
    "### 1、time模块\n",
    "1.time():用来获取时间戳，表示的结果为从1970年1月1日开始计算到现在时间之间的秒数"
   ]
  },
  {
   "cell_type": "code",
   "execution_count": 51,
   "metadata": {},
   "outputs": [
    {
     "data": {
      "text/plain": [
       "1550994946.1138718"
      ]
     },
     "execution_count": 51,
     "metadata": {},
     "output_type": "execute_result"
    }
   ],
   "source": [
    "time.time() # 时间戳:指从1970年01月01日00时00分00秒(北京时间1970年01月01日08时00分00秒)起至现在的总秒数。"
   ]
  },
  {
   "cell_type": "markdown",
   "metadata": {},
   "source": [
    "2.localtime():获取当前时间信息，包含年月日时分秒等等。返回结果以元组的形式返回"
   ]
  },
  {
   "cell_type": "code",
   "execution_count": 52,
   "metadata": {},
   "outputs": [
    {
     "data": {
      "text/plain": [
       "time.struct_time(tm_year=2019, tm_mon=2, tm_mday=24, tm_hour=15, tm_min=57, tm_sec=25, tm_wday=6, tm_yday=55, tm_isdst=0)"
      ]
     },
     "execution_count": 52,
     "metadata": {},
     "output_type": "execute_result"
    }
   ],
   "source": [
    "time.localtime()"
   ]
  },
  {
   "cell_type": "markdown",
   "metadata": {},
   "source": [
    "3.strftime():将localtime()中获取的时间元组转换为自定义的日期时间格式进行"
   ]
  },
  {
   "cell_type": "code",
   "execution_count": 56,
   "metadata": {},
   "outputs": [
    {
     "data": {
      "text/plain": [
       "'2019-02-24 16:02:23'"
      ]
     },
     "execution_count": 56,
     "metadata": {},
     "output_type": "execute_result"
    }
   ],
   "source": [
    "time.strftime('%Y-%m-%d %H:%M:%S',time.localtime())"
   ]
  },
  {
   "cell_type": "markdown",
   "metadata": {},
   "source": [
    "### 2、datetime模块: from datetime（库）import date（类）"
   ]
  },
  {
   "cell_type": "markdown",
   "metadata": {},
   "source": [
    "#### 2.1 datetime模块中包含的如下类：\n",
    "\n",
    "1、date：表示日期的类，常用的属性有year，month，day\n",
    "\n",
    "2、time：表示时间的类，常用的属性有hour,minute,second,microsecond,tzoninfo\n",
    "\n",
    "3、datetime：表示日期时间的类，常用的属性有year，month，day，hour,minute,second\n",
    "\n",
    "4、datetime_CAPI：日期时间对象C语言接口\n",
    "\n",
    "5、timedelta：时间间隔，即两个时间点之间的长度\n",
    "\n",
    "6、tzinfo：时区信息对象"
   ]
  },
  {
   "cell_type": "code",
   "execution_count": 66,
   "metadata": {},
   "outputs": [],
   "source": [
    "from datetime import *  # 不知道用啥，全部导入就可以用*"
   ]
  },
  {
   "cell_type": "markdown",
   "metadata": {},
   "source": [
    "#### 2.2  各类中的函数"
   ]
  },
  {
   "cell_type": "markdown",
   "metadata": {},
   "source": [
    "##### time类中的函数\n",
    "\n",
    "1.datetime.date.ctime(),返回格式如 Sun Apr 16 00:00:00 2017\n",
    "\n",
    "2.datetime.date.fromtimestamp(timestamp),根据给定的时间戮，返回一个date对象；datetime.date.today()作用相同\n",
    "\n",
    "3.datetime.date.isocalendar():返回格式如(year，month，day)的元组,(2017, 15, 6)\n",
    "\n",
    "4.datetime.date.isoformat()：返回格式如YYYY-MM-DD\n",
    "\n",
    "5.datetime.date.isoweekday()：返回给定日期的星期（0-6）星期一=0，星期日=6 这里表明下python3中是从[1-7]表示的 就是本来是星期几现在显示就是星期几\n",
    "\n",
    "6.datetime.date.replace(year,month,day)：替换给定日期，但不改变原日期"
   ]
  },
  {
   "cell_type": "markdown",
   "metadata": {},
   "source": [
    "##### time类中的函数\n",
    "\n",
    "1.datetime.time.replace()\n",
    "\n",
    "2.datetime.time.strftime(format):按照format格式返回时间\n",
    "\n",
    "3.datetime.time.tzname()：返回时区名字\n",
    "\n",
    "4.datetime.time.utcoffset()：返回时区的时间偏移量"
   ]
  },
  {
   "cell_type": "markdown",
   "metadata": {},
   "source": [
    "##### datetime类中的函数\n",
    "\n",
    "datetime.datetime.ctime()\n",
    "\n",
    "datetime.datetime.now().date()：返回当前日期时间的日期部分\n",
    "\n",
    "datetime.datetime.now().time()：返回当前日期时间的时间部分\n",
    "\n",
    "datetime.datetime.fromtimestamp()\n",
    "\n",
    "datetime.datetime.now()：返回当前系统时间\n",
    "\n",
    "datetime.datetime.replace()\n",
    "\n",
    "datetime.datetime.strftime()：由日期格式转化为字符串格式\n",
    "\n",
    "　　datetime.datetime.now().strftime('%b-%d-%Y %H:%M:%S')\n",
    "　　'Apr-16-2017 21:01:35'\n",
    "\n",
    "datetime.datetime.strptime():由字符串格式转化为日期格式\n",
    "    \n",
    "     datetime.datetime.strptime('Apr-16-2017 21:01:35', '%b-%d-%Y %H:%M:%S')\n",
    "     2017-04-16 21:01:35"
   ]
  }
 ],
 "metadata": {
  "kernelspec": {
   "display_name": "Python 3",
   "language": "python",
   "name": "python3"
  },
  "language_info": {
   "codemirror_mode": {
    "name": "ipython",
    "version": 3
   },
   "file_extension": ".py",
   "mimetype": "text/x-python",
   "name": "python",
   "nbconvert_exporter": "python",
   "pygments_lexer": "ipython3",
   "version": "3.7.0"
  }
 },
 "nbformat": 4,
 "nbformat_minor": 2
}
